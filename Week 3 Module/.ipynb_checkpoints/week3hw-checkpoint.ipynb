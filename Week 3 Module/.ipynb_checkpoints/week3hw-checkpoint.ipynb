{
 "cells": [
  {
   "cell_type": "code",
   "execution_count": 33,
   "id": "f2d6a9a3-32e2-46ea-982b-c0675580e9cb",
   "metadata": {
    "tags": []
   },
   "outputs": [
    {
     "name": "stdout",
     "output_type": "stream",
     "text": [
      "    Year  Month  Number of stocks that have share turnover > 0.5\n",
      "0   2015      1                                             3925\n",
      "1   2015      2                                             3916\n",
      "2   2015      3                                             3917\n",
      "3   2015      4                                             3916\n",
      "4   2015      5                                             3927\n",
      "..   ...    ...                                              ...\n",
      "92  2022      9                                             4535\n",
      "93  2022     10                                             4514\n",
      "94  2022     11                                             4500\n",
      "95  2022     12                                             4420\n",
      "96  2023      1                                             4411\n",
      "\n",
      "[97 rows x 3 columns]\n"
     ]
    }
   ],
   "source": [
    "import numpy as np\n",
    "import pandas as pd\n",
    "import matplotlib.pyplot as plt\n",
    "import matplotlib.dates as dates\n",
    "plt.rcParams['figure.figsize'] = [20, 15]\n",
    "\"\"\"\n",
    "Individual Stock Market Data\n",
    "Monthly\n",
    "2001-\n",
    "\"\"\"\n",
    "st1 = pd.read_stata(r\"C:\\Users\\rdg83\\OneDrive - Rutgers University\\Course Investment Portfolio Management\\Week 3 Stuff\\penndataHW3.dta\")\n",
    "\n",
    "st1.columns\n",
    "st1.head()\n",
    "\"\"\"\n",
    "gvkey: stock id\n",
    "iid: issue ID\n",
    "datadate: month end\n",
    "tic: ticker\n",
    "cusip: stock id\n",
    "conm: firm name\n",
    "primiss: identify primary issue\n",
    "cshtrm: trading volumn\n",
    "curcdm: currency\n",
    "prccm: closing price\n",
    "trt1m: monthly return\n",
    "cshom: shares outstanding\n",
    "exchg: stock exchange code.\n",
    "tpci: identify common stocks\n",
    "fic: identifies the country in which the company is incorporated or legally\n",
    "registered\n",
    "sic: industry classification code\n",
    "\"\"\"\n",
    "st2=st1[st1['tpci']=='0'] #select common stocks\n",
    "st3=st2[st2['fic']=='USA'] #select firms in US\n",
    "st4=st3[st3['primiss']=='P'] #select the primary issue of a firm\n",
    "st5=st4[(st4['exchg']==11)| (st4['exchg']==12) |(st4['exchg']==14)]\n",
    "st5['Year']=st5['datadate'].dt.year\n",
    "st5['Month']=st5['datadate'].dt.month\n",
    "st5.head()\n",
    "st5['ret']=st5['trt1m']/100 #monthly return reported in compustat (trt1m) is in percentage.\n",
    "st6=st5[st5['ret']>=-1] #remove observations missing return\n",
    "st7=st6[st6['cshom']>0] #remove observations with zero or missing shares outstanding\n",
    "\n",
    "\n",
    "st7['mv_million']=st7['prccm']*st7['cshom']/1000000\n",
    "#find the market value=price * shares outstanding\n",
    "\n",
    "st7['share turnover']=st7['cshtrm']/st7['cshom']\n",
    "#share turnover= trading volumn/ shares outstanding\n",
    "\n",
    "st7[\"Year\"]=st7[\"datadate\"].dt.year\n",
    "st7[\"Month\"]=st7[\"datadate\"].dt.month\n",
    "\n",
    "st8=st7[st7[\"share turnover\"] > 0.5]\n",
    "pd.set_option(\"display.max_colwidth\", None)\n",
    "\n",
    "stock_counts = st4.groupby([\"Year\", \"Month\"])[\"tic\"].count().reset_index(name=\"Number of stocks that have share turnover > 0.5\")\n",
    "print(stock_counts)\n"
   ]
  },
  {
   "cell_type": "code",
   "execution_count": null,
   "id": "fe862f93-bbfd-4613-ba70-9bf2a094adcc",
   "metadata": {},
   "outputs": [],
   "source": []
  }
 ],
 "metadata": {
  "kernelspec": {
   "display_name": "Python 3 (ipykernel)",
   "language": "python",
   "name": "python3"
  },
  "language_info": {
   "codemirror_mode": {
    "name": "ipython",
    "version": 3
   },
   "file_extension": ".py",
   "mimetype": "text/x-python",
   "name": "python",
   "nbconvert_exporter": "python",
   "pygments_lexer": "ipython3",
   "version": "3.11.5"
  }
 },
 "nbformat": 4,
 "nbformat_minor": 5
}
