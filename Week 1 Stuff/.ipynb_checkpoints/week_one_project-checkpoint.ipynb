{
 "cells": [
  {
   "cell_type": "markdown",
   "id": "0252afea-fd09-40ad-9fad-8f54a4176282",
   "metadata": {},
   "source": [
    "1. List \n",
    "\n",
    "a. create a list of ten numbers. \n",
    "\n",
    "b. select the third number in the list. \n",
    "\n",
    "c. select the first three numbers in the list. "
   ]
  },
  {
   "cell_type": "code",
   "execution_count": 2,
   "id": "121d7fdf-3358-4704-9838-baa6834fa2d1",
   "metadata": {
    "tags": []
   },
   "outputs": [],
   "source": [
    "#a\n",
    "num = [1, 2, 3, 4, 5, 6, 7, 8, 9, 10]  \n",
    "\n",
    "#b\n",
    "third_num = num[2]  \n",
    "\n",
    "#c\n",
    "first_three_num = num[:3]  "
   ]
  },
  {
   "cell_type": "markdown",
   "id": "97473b63-f5b5-4798-9e68-e6b887ededd0",
   "metadata": {},
   "source": [
    "2. Function \n",
    "\n",
    "a. define a function that prints one of your favorite quotes.  \n",
    "\n",
    "b. define a function that calculates 5x2+2x+7 and calculate the value of this function when x=2. "
   ]
  },
  {
   "cell_type": "code",
   "execution_count": 11,
   "id": "3e03bab5-6882-4e72-bcb3-a0b58e010dab",
   "metadata": {
    "tags": []
   },
   "outputs": [
    {
     "name": "stdout",
     "output_type": "stream",
     "text": [
      "The value of this function when x=2 is: 31\n"
     ]
    }
   ],
   "source": [
    "#a\n",
    "\n",
    "def fav_quote(): \n",
    "    print(\"\\\"Winners never quit, and quitters never win\\\" - Vince Lombardi\")  \n",
    " \n",
    "#b\n",
    "\n",
    "def function_formula(x):\n",
    "    return 5 * x**2 + 2 * x + 7\n",
    "\n",
    "answer = function_formula(2)\n",
    "print(f\"The value of this function when x=2 is: {answer}\")\n",
    "\n",
    "#20+11=31"
   ]
  },
  {
   "cell_type": "markdown",
   "id": "ef2aeb88-02dd-4313-9da4-6f26a2474bfc",
   "metadata": {},
   "source": [
    "3. Loop \n",
    "\n",
    "a. create a loop that prints integers from 5 to 10, including 10. \n",
    "\n",
    "b. create a loop that generates a list of integers from 5 to 10, including 10.  \n",
    "\n",
    "c. create a loop that multiplies all the integers from 5 to 10, including 10.  "
   ]
  },
  {
   "cell_type": "code",
   "execution_count": 16,
   "id": "55f9d4bd-6d89-4da9-bf48-48434cc695ae",
   "metadata": {
    "tags": []
   },
   "outputs": [
    {
     "name": "stdout",
     "output_type": "stream",
     "text": [
      "5\n",
      "6\n",
      "7\n",
      "8\n",
      "9\n",
      "10\n",
      "[1, 2, 3, 4, 5, 6, 7, 8, 9, 10]\n",
      "Product of integers from 5 to 10, including 10: 151200\n"
     ]
    }
   ],
   "source": [
    "#a\n",
    "for i in range(5,11):\n",
    "    print(i)\n",
    "\n",
    "#b\n",
    "number = list(range(5, 11))\n",
    "print(num)\n",
    "\n",
    "#c\n",
    "product = 1\n",
    "for i in range(5, 11):\n",
    "  product *= i\n",
    "\n",
    "print(f\"Product of integers from 5 to 10, including 10: {product}\")\n"
   ]
  },
  {
   "cell_type": "code",
   "execution_count": null,
   "id": "0246924e-eb5c-4b55-95f9-65947b397fbd",
   "metadata": {},
   "outputs": [],
   "source": []
  }
 ],
 "metadata": {
  "kernelspec": {
   "display_name": "Python 3 (ipykernel)",
   "language": "python",
   "name": "python3"
  },
  "language_info": {
   "codemirror_mode": {
    "name": "ipython",
    "version": 3
   },
   "file_extension": ".py",
   "mimetype": "text/x-python",
   "name": "python",
   "nbconvert_exporter": "python",
   "pygments_lexer": "ipython3",
   "version": "3.11.5"
  }
 },
 "nbformat": 4,
 "nbformat_minor": 5
}
